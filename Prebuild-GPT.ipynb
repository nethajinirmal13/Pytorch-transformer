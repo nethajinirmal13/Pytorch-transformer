{
 "cells": [
  {
   "cell_type": "code",
   "execution_count": 3,
   "id": "765811d3",
   "metadata": {},
   "outputs": [],
   "source": [
    "from transformers import pipeline , set_seed\n",
    "import torch\n",
    "from torch import tensor"
   ]
  },
  {
   "cell_type": "code",
   "execution_count": 5,
   "id": "24f491b5",
   "metadata": {},
   "outputs": [],
   "source": [
    "from transformers import GPT2Tokenizer, GPT2LMHeadModel\n",
    "tokenizer = GPT2Tokenizer.from_pretrained(\"gpt2\")"
   ]
  },
  {
   "cell_type": "code",
   "execution_count": 9,
   "id": "c9918566",
   "metadata": {},
   "outputs": [],
   "source": [
    "generator = pipeline(\"text-generation\", model = 'gpt2', tokenizer = tokenizer)\n",
    "set_seed(0)"
   ]
  },
  {
   "cell_type": "code",
   "execution_count": 13,
   "id": "f0f19ff7",
   "metadata": {},
   "outputs": [
    {
     "name": "stderr",
     "output_type": "stream",
     "text": [
      "Setting `pad_token_id` to `eos_token_id`:50256 for open-end generation.\n"
     ]
    },
    {
     "data": {
      "text/plain": [
       "[{'generated_text': 'India is a great vernacular for this kind'},\n",
       " {'generated_text': 'India is a great vernacular name for India'},\n",
       " {'generated_text': 'India is a great \\xa0country which is not'},\n",
       " {'generated_text': \"India is a great vernacular of 'open\"},\n",
       " {'generated_text': 'India is a great iphone-based carrier'},\n",
       " {'generated_text': 'India is a great vernacular for the language'},\n",
       " {'generated_text': 'India is a great urchin, but we'},\n",
       " {'generated_text': 'India is a great vernacular of an Indian'},\n",
       " {'generated_text': 'India is a great \\xa0state. They are'},\n",
       " {'generated_text': 'India is a great \\xa0country, and the'}]"
      ]
     },
     "execution_count": 13,
     "metadata": {},
     "output_type": "execute_result"
    }
   ],
   "source": [
    "generator(\"India is a great \" , max_length = 10 , num_return_sequences = 10 , temperature = 0.8 )"
   ]
  },
  {
   "cell_type": "code",
   "execution_count": 15,
   "id": "a60ae57a",
   "metadata": {},
   "outputs": [
    {
     "name": "stderr",
     "output_type": "stream",
     "text": [
      "Setting `pad_token_id` to `eos_token_id`:50256 for open-end generation.\n",
      "Input length of input_ids is 56, but `max_length` is set to 21. This can lead to unexpected behavior. You should consider increasing `max_new_tokens`.\n"
     ]
    },
    {
     "name": "stdout",
     "output_type": "stream",
     "text": [
      "Question/Answering\n",
      "C:Good is found in 1988 by bunch of software engineer\n",
      "Q:When Good is found?\n",
      "A: 1988\n",
      "###\n",
      "C:India launched chandrayen in 2023\n",
      "Q: When India launched Chandrayen\n",
      "A: 1988\n"
     ]
    }
   ],
   "source": [
    "print(generator(\"\"\"Question/Answering\n",
    "C:Good is found in 1988 by bunch of software engineer\n",
    "Q:When Good is found?\n",
    "A: 1988\n",
    "###\n",
    "C:India launched chandrayen in 2023\n",
    "Q: When India launched Chandrayen\n",
    "A:\"\"\", top_k = 2 , max_length = 21, temperature = 0.5 )[0]['generated_text'])"
   ]
  },
  {
   "cell_type": "code",
   "execution_count": null,
   "id": "d4f1dd5f",
   "metadata": {},
   "outputs": [],
   "source": []
  }
 ],
 "metadata": {
  "kernelspec": {
   "display_name": "Python 3 (ipykernel)",
   "language": "python",
   "name": "python3"
  },
  "language_info": {
   "codemirror_mode": {
    "name": "ipython",
    "version": 3
   },
   "file_extension": ".py",
   "mimetype": "text/x-python",
   "name": "python",
   "nbconvert_exporter": "python",
   "pygments_lexer": "ipython3",
   "version": "3.11.4"
  }
 },
 "nbformat": 4,
 "nbformat_minor": 5
}
