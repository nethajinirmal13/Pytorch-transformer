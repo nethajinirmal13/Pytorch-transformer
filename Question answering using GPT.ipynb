{
 "cells": [
  {
   "cell_type": "code",
   "execution_count": 1,
   "id": "b048937f",
   "metadata": {},
   "outputs": [],
   "source": [
    "import requests\n",
    "from bs4 import BeautifulSoup\n",
    "from urllib.request import urlopen\n",
    "import numpy as np\n",
    "\n",
    "from datasets import load_dataset\n",
    "\n",
    "from sentence_transformers import SentenceTransformer, util\n",
    "from transformers import pipeline\n",
    "\n",
    "from random import sample, seed, shuffle\n",
    "from sentence_transformers import InputExample , losses , evaluation\n",
    "from torch.utils.data import DataLoader"
   ]
  },
  {
   "cell_type": "code",
   "execution_count": 2,
   "id": "2daecebb",
   "metadata": {},
   "outputs": [],
   "source": [
    "PERSON = \"APJ ABDUL KALAM\"\n",
    "\n",
    "google_html = BeautifulSoup(requests.get(f\"https://www.google.com/search?q={PERSON}\").text).get_text()[:100000]"
   ]
  },
  {
   "cell_type": "code",
   "execution_count": 3,
   "id": "c5868d0d",
   "metadata": {},
   "outputs": [
    {
     "data": {
      "text/plain": [
       "\"APJ ABDUL KALAM - Google SearchGoogle×Please click here if you are not redirected within a few seconds.    AllImagesBooksNews Maps Videos Shopping Search tools    Any timeAny timePast hourPast 24 hoursPast weekPast monthPast yearAll resultsAll resultsVerbatimA. P. J. Abdul Kalam - Wikipediaen.wikipedia.org › wiki › A._P._J._Abdul_KalamAvul Pakir Jainulabdeen Abdul Kalam BR was an Indian aerospace scientist and statesman who served as the 11th president of India from 2002 to 2007.Dr. A.P.J. Abdul Kalam Memorial · Dr. A. P. J. Abdul Kalam Award · Srijan Pal SinghVice President: Krishan Kant; Bhairon Singh ShekhawatPolitical party: IndependentNotable work(s): Wings of Fire; India 2020; Ignited Minds; Indomitable Spirit; Transcendence: My Spiritual Experiences with Pram...Prime Minister: Atal Bihari Vajpayee; Manmohan SinghA. P. J. Abdul KalamFormer President of IndiaAvul Pakir Jainulabdeen Abdul Kalam BR was an Indian aerospace scientist and statesman who served as the 11th president of India from 2002 to 2007. He was born and raised in Rameswaram, Tamil Nadu and studied physics and aerospace engineering. WikipediaBorn: 15 October 1931, RameswaramDied: 27 July 2015, ShillongAwards: Bharat Ratna, Veer Savarkar Award, Hoover Medal and moreFull name: Avul Pakir Jainulabdeen Abdul KalamEducation: Madras Institute of Technology, Anna University (1955–1957), St. Joseph's College (Autonomous), Tiruchirappalli - 620 002., Schwartz Higher Secondary School (1946–1950) and morePrevious offices: President of India (2002–2007) and Principal Scientific Adviser to the Government of India (1999–2001)BooksWings of Fire1999Ignited Minds2002Naa Jeevana Gamanam2013India 20201998Failure is a Teacher: (Penguin Petit)2018Turning Points2012People also askWhat was Abdul Kalam famous?Did APJ Abdul Kalam work in NASA?Who is APJ Abdul Kalam history?Which missile did Abdul Kalam make?A.P.J. Abdul Kalam | Biography, History, Books, Thoughts, Awards ...www.britannica.com › ... › Politics & Political Systems7 days ago · A.P.J. Abdul Kalam, Indian scientist and politician who was president of India from 2002 to 2007. He earned a degree in aeronautical\\xa0...Indian Space Research... · Rameswaram · Explore India Quiz · Nuclear weaponEducation: Madras Institute of Technology, Anna UniversityDate of death: July 27, 2015Born: October 15, 1931, RameswaramNationality: IndiaA.P.J. Abdul Kalam as Indian President - Britannicawww.britannica.com › ... › World Leaders › Presidents & Heads of StatesA.P.J. Abdul Kalam was an Indian scientist and politician who played a leading role in the development of India's missile and nuclear weapons programs.Political Affiliation: National Democratic AllianceBorn: October 15, 1931 • Rameswaram • IndiaHome | 11th Former President of Indiapresidentofindia.gov.in › abdulkalam04-Aug-2023 · A.P.J. Abdul Kalam. Born on 15th October 1931 at Rameswaram in Tamil Nadu, Dr. Avul Pakir Jainulabdeen Abdul Kalam, specialized in Aeronautical\\xa0...Celebrating the legacy of Dr. APJ Abdul Kalam - The Economic Timesm.economictimes.com › News › New Updates27-Jul-2023 · Dr. APJ Abdul Kalam, India's 11th President and a brilliant scientist, played a vital role in India's missile technology, designing the Agni\\xa0...Place of birth: RameswaramNationality: IndiaAPJ Abdul Kalam Biography: Inventions, Achievements, Death Date ...unacademy.com › content › general-awareness › apj-abdul-kalam-biographyAPJ Abdul Kalam was the eleventh President of India, serving from 2002 to 2007. He was born on May 15, 1931, in Rameswaram, Tamil Nadu, and studied physics as\\xa0...APJ Abdul Kalam death anniversary: Top ten inspiring quotes ... - Mintwww.livemint.com › News › India27-Jul-2023 · Dr. APJ Abdul Kalam, the Missile Man of India and the 11th President, left an indelible mark on science and politics. On July 27, 2015, Dr.Dr. A P J Abdul Kalam's Biography - Vedantuwww.vedantu.com › Biography › Dr. A P J Abdul Kalam BiographyHe spent four decades as a scientist and science administrator, especially on the Defence Research and Development Organisation (DRDO) and Indian Space Research\\xa0...Date of death: July 27, 2015Born: 15 October 1931, RameswaramApj Abdul Kalam - The Indian Expressindianexpress.com › AboutAvul Pakir Jainelabdeen Abdul Kalam was the 11th President of the country from 2002 and 2007 and is also popularly known as the 'Missile Man' of India.A. P. J. Abdul Kalam - Vikaspediavikaspedia.in › tamil-nadu › ramanathapuram › know-your-district › a-p-j-...Kalam served as the Chief Scientific Adviser to the Prime Minister and Secretary of the Defence Research and Development Organisation from July 1992 to December\\xa0...Date of birth: 15 October 1931Related searchesApj abdul kalam full namea. p. j. abdul kalam awardsAPJ Abdul Kalam wifea. p. j. abdul kalam educationAPJ Abdul Kalam death dateAPJ Abdul Kalam biography in English PDFAPJ Abdul Kalam father nameAPJ Abdul Kalam achievements  Next >  Chennai, Tamil NaduFrom your IP address\\xa0-\\xa0Learn moreSign inSettingsPrivacyTermsDark theme: Off \""
      ]
     },
     "execution_count": 3,
     "metadata": {},
     "output_type": "execute_result"
    }
   ],
   "source": [
    "google_html"
   ]
  },
  {
   "cell_type": "code",
   "execution_count": 12,
   "id": "876b2f44",
   "metadata": {},
   "outputs": [],
   "source": [
    "nlp = pipeline(\"question-answering\",\n",
    "              model = \"deepset/roberta-base-squad2\",\n",
    "              tokenizer = \"deepset/roberta-base-squad2\",\n",
    "              max_length = 100)"
   ]
  },
  {
   "cell_type": "code",
   "execution_count": 13,
   "id": "a4f24aed",
   "metadata": {},
   "outputs": [
    {
     "data": {
      "text/plain": [
       "'APJ ABDUL KALAM'"
      ]
     },
     "execution_count": 13,
     "metadata": {},
     "output_type": "execute_result"
    }
   ],
   "source": [
    "PERSON"
   ]
  },
  {
   "cell_type": "code",
   "execution_count": 17,
   "id": "e7823a27",
   "metadata": {},
   "outputs": [
    {
     "data": {
      "text/plain": [
       "{'score': 0.010016797110438347,\n",
       " 'start': 1360,\n",
       " 'end': 1369,\n",
       " 'answer': '1955–1957'}"
      ]
     },
     "execution_count": 17,
     "metadata": {},
     "output_type": "execute_result"
    }
   ],
   "source": [
    "nlp(f\"give me  {PERSON} education details\", google_html)"
   ]
  },
  {
   "cell_type": "code",
   "execution_count": 15,
   "id": "2c903ec6",
   "metadata": {},
   "outputs": [
    {
     "data": {
      "text/plain": [
       "'AR RAHMAN'"
      ]
     },
     "execution_count": 15,
     "metadata": {},
     "output_type": "execute_result"
    }
   ],
   "source": [
    "# nlp(f\"Who is {PERSON}?\", google_html)\n",
    "PERSON"
   ]
  },
  {
   "cell_type": "code",
   "execution_count": 14,
   "id": "f3aa8e9f",
   "metadata": {},
   "outputs": [
    {
     "data": {
      "text/plain": [
       "{'score': 0.8973374366760254,\n",
       " 'start': 6570,\n",
       " 'end': 6585,\n",
       " 'answer': 'January 6, 1966'}"
      ]
     },
     "execution_count": 14,
     "metadata": {},
     "output_type": "execute_result"
    }
   ],
   "source": [
    "nlp(f\"when {PERSON} is born?\", google_html)"
   ]
  },
  {
   "cell_type": "code",
   "execution_count": null,
   "id": "7d852ab4",
   "metadata": {},
   "outputs": [],
   "source": []
  },
  {
   "cell_type": "code",
   "execution_count": null,
   "id": "13255bb4",
   "metadata": {},
   "outputs": [],
   "source": []
  }
 ],
 "metadata": {
  "kernelspec": {
   "display_name": "Python 3 (ipykernel)",
   "language": "python",
   "name": "python3"
  },
  "language_info": {
   "codemirror_mode": {
    "name": "ipython",
    "version": 3
   },
   "file_extension": ".py",
   "mimetype": "text/x-python",
   "name": "python",
   "nbconvert_exporter": "python",
   "pygments_lexer": "ipython3",
   "version": "3.11.4"
  }
 },
 "nbformat": 4,
 "nbformat_minor": 5
}
