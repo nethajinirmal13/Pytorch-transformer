{
 "cells": [
  {
   "cell_type": "code",
   "execution_count": 2,
   "id": "519a6ec5",
   "metadata": {},
   "outputs": [],
   "source": [
    "from transformers import T5ForConditionalGeneration, T5Tokenizer"
   ]
  },
  {
   "cell_type": "code",
   "execution_count": 3,
   "id": "cacff664",
   "metadata": {
    "scrolled": false
   },
   "outputs": [
    {
     "name": "stderr",
     "output_type": "stream",
     "text": [
      "C:\\Users\\DK\\anaconda3\\envs\\pytorch\\Lib\\site-packages\\transformers\\models\\t5\\tokenization_t5.py:199: FutureWarning: This tokenizer was incorrectly instantiated with a model max length of 512 which will be corrected in Transformers v5.\n",
      "For now, this behavior is kept to avoid breaking backwards compatibility when padding/encoding with `truncation is True`.\n",
      "- Be aware that you SHOULD NOT rely on t5-base automatically truncating your input to 512 when padding/encoding.\n",
      "- If you want to encode/pad to sequences longer than 512 you can either instantiate this tokenizer with `model_max_length` or pass `max_length` when encoding/padding.\n",
      "- To avoid this warning, please instantiate this tokenizer with `model_max_length` set to your preferred value.\n",
      "  warnings.warn(\n",
      "You are using the legacy behaviour of the <class 'transformers.models.t5.tokenization_t5.T5Tokenizer'>. This means that tokens that come after special tokens will not be properly handled. We recommend you to read the related pull request available at https://github.com/huggingface/transformers/pull/24565\n"
     ]
    }
   ],
   "source": [
    "base_model = T5ForConditionalGeneration.from_pretrained(\"t5-base\")\n",
    "base_tokenizer = T5Tokenizer.from_pretrained(\"t5-base\")"
   ]
  },
  {
   "cell_type": "code",
   "execution_count": 4,
   "id": "07bc8090",
   "metadata": {},
   "outputs": [],
   "source": [
    "text_to_summarize = \"\"\"\n",
    "Avul Pakir Jainulabdeen Abdul Kalam BR (/ˈɑːbdəl kəˈlɑːm/ (listeni); 15 October 1931 – 27 July 2015) was an Indian aerospace scientist and statesman who served as the 11th president of India from 2002 to 2007. He was born and raised in Rameswaram, Tamil Nadu and studied physics and aerospace engineering. He spent the next four decades as a scientist and science administrator, mainly at the Defence Research and Development Organisation (DRDO) and Indian Space Research Organisation (ISRO) and was intimately involved in India's civilian space programme and military missile development efforts.[1] He thus came to be known as the Missile Man of India for his work on the development of ballistic missile and launch vehicle technology.[2][3][4] He also played a pivotal organisational, technical, and political role in India's Pokhran-II nuclear tests in 1998, the first since the original nuclear test by India in 1974.[5]\n",
    "\n",
    "Kalam was elected as the 11th president of India in 2002 with the support of both the ruling Bharatiya Janata Party and the then-opposition Indian National Congress. Widely referred to as the \"People's President\",[6] he returned to his civilian life of education, writing and public service after a single term. He was a recipient of several prestigious awards, including the Bharat Ratna, India's highest civilian honour.\n",
    "\"\"\""
   ]
  },
  {
   "cell_type": "code",
   "execution_count": 5,
   "id": "1d773d0b",
   "metadata": {},
   "outputs": [
    {
     "name": "stdout",
     "output_type": "stream",
     "text": [
      "\n",
      "Avul Pakir Jainulabdeen Abdul Kalam BR (/ˈɑːbdəl kəˈlɑːm/ (listeni); 15 October 1931 – 27 July 2015) was an Indian aerospace scientist and statesman who served as the 11th president of India from 2002 to 2007. He was born and raised in Rameswaram, Tamil Nadu and studied physics and aerospace engineering. He spent the next four decades as a scientist and science administrator, mainly at the Defence Research and Development Organisation (DRDO) and Indian Space Research Organisation (ISRO) and was intimately involved in India's civilian space programme and military missile development efforts.[1] He thus came to be known as the Missile Man of India for his work on the development of ballistic missile and launch vehicle technology.[2][3][4] He also played a pivotal organisational, technical, and political role in India's Pokhran-II nuclear tests in 1998, the first since the original nuclear test by India in 1974.[5]\n",
      "\n",
      "Kalam was elected as the 11th president of India in 2002 with the support of both the ruling Bharatiya Janata Party and the then-opposition Indian National Congress. Widely referred to as the \"People's President\",[6] he returned to his civilian life of education, writing and public service after a single term. He was a recipient of several prestigious awards, including the Bharat Ratna, India's highest civilian honour.\n",
      "\n"
     ]
    }
   ],
   "source": [
    "print(text_to_summarize)"
   ]
  },
  {
   "cell_type": "code",
   "execution_count": 6,
   "id": "c47bb228",
   "metadata": {},
   "outputs": [],
   "source": [
    "t5_prepared_text = \"summarize : \" + text_to_summarize"
   ]
  },
  {
   "cell_type": "code",
   "execution_count": 7,
   "id": "b4365ab3",
   "metadata": {},
   "outputs": [],
   "source": [
    "input_ids = base_tokenizer.encode(t5_prepared_text, return_tensors = 'pt')"
   ]
  },
  {
   "cell_type": "code",
   "execution_count": 8,
   "id": "893e4270",
   "metadata": {},
   "outputs": [],
   "source": [
    "summary_ids = base_model.generate(\n",
    "input_ids,\n",
    "num_beams = 4,\n",
    "no_repeat_ngram_size = 3,\n",
    "min_length = 30,\n",
    "max_length = 50,\n",
    "early_stopping = True)"
   ]
  },
  {
   "cell_type": "code",
   "execution_count": 9,
   "id": "7cddb892",
   "metadata": {},
   "outputs": [],
   "source": [
    "output = base_tokenizer.decode(summary_ids[0], skip_special_tokens=True) "
   ]
  },
  {
   "cell_type": "code",
   "execution_count": 10,
   "id": "bbe0497d",
   "metadata": {},
   "outputs": [
    {
     "name": "stdout",
     "output_type": "stream",
     "text": [
      "Avul Pakir Jainulabdeen Abdul Kalam BR was an Indian aerospace scientist and statesman who served as the 11th president of India from 2002 to 2007. he was a recipient of several prestigious\n"
     ]
    }
   ],
   "source": [
    "print(output)"
   ]
  },
  {
   "cell_type": "code",
   "execution_count": 11,
   "id": "b4366a8b",
   "metadata": {},
   "outputs": [],
   "source": [
    "###translation"
   ]
  },
  {
   "cell_type": "code",
   "execution_count": 12,
   "id": "a9ae9f3e",
   "metadata": {},
   "outputs": [
    {
     "name": "stdout",
     "output_type": "stream",
     "text": [
      "Wo ist der Chocoloate?\n"
     ]
    }
   ],
   "source": [
    "input_ids = base_tokenizer.encode(\"translate English to German: Where is the Chocoloate?\", return_tensors = 'pt')\n",
    "translate_ids = base_model.generate(\n",
    "input_ids,\n",
    "num_beams = 4,\n",
    "no_repeat_ngram_size = 3,\n",
    "max_length = 20,\n",
    "early_stopping = True)\n",
    "output = base_tokenizer.decode(translate_ids[0], skip_special_tokens=True)\n",
    "print(output)"
   ]
  },
  {
   "cell_type": "code",
   "execution_count": 14,
   "id": "ddabc705",
   "metadata": {},
   "outputs": [],
   "source": [
    "#cola :sentence checker"
   ]
  },
  {
   "cell_type": "code",
   "execution_count": 15,
   "id": "858b4ccf",
   "metadata": {},
   "outputs": [
    {
     "name": "stdout",
     "output_type": "stream",
     "text": [
      "acceptable\n"
     ]
    }
   ],
   "source": [
    "input_ids = base_tokenizer.encode(\"cola sentence: Where is the Chocoloate?\", return_tensors = 'pt')\n",
    "translate_ids = base_model.generate(\n",
    "input_ids,\n",
    "num_beams = 4,\n",
    "no_repeat_ngram_size = 3,\n",
    "max_length = 20,\n",
    "early_stopping = True)\n",
    "output = base_tokenizer.decode(translate_ids[0], skip_special_tokens=True)\n",
    "print(output)"
   ]
  },
  {
   "cell_type": "code",
   "execution_count": null,
   "id": "ca5afa5b",
   "metadata": {},
   "outputs": [],
   "source": []
  }
 ],
 "metadata": {
  "kernelspec": {
   "display_name": "Python 3 (ipykernel)",
   "language": "python",
   "name": "python3"
  },
  "language_info": {
   "codemirror_mode": {
    "name": "ipython",
    "version": 3
   },
   "file_extension": ".py",
   "mimetype": "text/x-python",
   "name": "python",
   "nbconvert_exporter": "python",
   "pygments_lexer": "ipython3",
   "version": "3.11.4"
  }
 },
 "nbformat": 4,
 "nbformat_minor": 5
}
