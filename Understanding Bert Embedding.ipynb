{
 "cells": [
  {
   "cell_type": "code",
   "execution_count": 1,
   "id": "6b83d51c",
   "metadata": {},
   "outputs": [],
   "source": [
    "from transformers import BertModel, BertTokenizer"
   ]
  },
  {
   "cell_type": "code",
   "execution_count": 16,
   "id": "144e1ef3",
   "metadata": {},
   "outputs": [],
   "source": [
    "import torch"
   ]
  },
  {
   "cell_type": "code",
   "execution_count": 2,
   "id": "837a9f4e",
   "metadata": {},
   "outputs": [],
   "source": [
    "#load vennila bert model\n",
    "model = BertModel.from_pretrained(\"bert-base-uncased\")\n",
    "\n",
    "tokenizer  = BertTokenizer.from_pretrained(\"bert-base-uncased\")"
   ]
  },
  {
   "cell_type": "code",
   "execution_count": 4,
   "id": "7da79156",
   "metadata": {},
   "outputs": [
    {
     "data": {
      "text/plain": [
       "BertEmbeddings(\n",
       "  (word_embeddings): Embedding(30522, 768, padding_idx=0)\n",
       "  (position_embeddings): Embedding(512, 768)\n",
       "  (token_type_embeddings): Embedding(2, 768)\n",
       "  (LayerNorm): LayerNorm((768,), eps=1e-12, elementwise_affine=True)\n",
       "  (dropout): Dropout(p=0.1, inplace=False)\n",
       ")"
      ]
     },
     "execution_count": 4,
     "metadata": {},
     "output_type": "execute_result"
    }
   ],
   "source": [
    "\"\"\"\n",
    "word embedding : context free word embedding\n",
    "position embedding : embedding position\n",
    "token type embedding : 0 or 1 used to lookup the segment embedding\n",
    "\"\"\"\n",
    "model.embeddings"
   ]
  },
  {
   "cell_type": "code",
   "execution_count": 5,
   "id": "2e846ee7",
   "metadata": {},
   "outputs": [],
   "source": [
    "text = \"welcome to todays classs, hope you guys enjoyed it\""
   ]
  },
  {
   "cell_type": "code",
   "execution_count": 6,
   "id": "62616bb9",
   "metadata": {},
   "outputs": [
    {
     "data": {
      "text/plain": [
       "tensor([[ 101, 6160, 2000, 2651, 2015, 2465, 2015, 1010, 3246, 2017, 4364, 5632,\n",
       "         2009,  102]])"
      ]
     },
     "execution_count": 6,
     "metadata": {},
     "output_type": "execute_result"
    }
   ],
   "source": [
    "tokenizer.encode(text, return_tensors = \"pt\") #returns pytorch tensor"
   ]
  },
  {
   "cell_type": "code",
   "execution_count": 9,
   "id": "62206c74",
   "metadata": {},
   "outputs": [
    {
     "data": {
      "text/plain": [
       "tensor([[[ 0.0136, -0.0265, -0.0235,  ...,  0.0087,  0.0071,  0.0151],\n",
       "         [ 0.0208, -0.0638,  0.0090,  ..., -0.0462, -0.0553, -0.0105],\n",
       "         [ 0.0131,  0.0082, -0.0087,  ...,  0.0159, -0.0078,  0.0182],\n",
       "         ...,\n",
       "         [-0.0526, -0.0520,  0.0160,  ..., -0.0533, -0.0505,  0.0284],\n",
       "         [-0.0449, -0.0279, -0.0088,  ...,  0.0133,  0.0185,  0.0093],\n",
       "         [-0.0145, -0.0100,  0.0060,  ..., -0.0250,  0.0046, -0.0015]]],\n",
       "       grad_fn=<EmbeddingBackward0>)"
      ]
     },
     "execution_count": 9,
     "metadata": {},
     "output_type": "execute_result"
    }
   ],
   "source": [
    "#undesratnding word embedding\n",
    "model.embeddings.word_embeddings(tokenizer.encode(text, return_tensors = \"pt\"))"
   ]
  },
  {
   "cell_type": "code",
   "execution_count": 10,
   "id": "8acb4646",
   "metadata": {},
   "outputs": [
    {
     "data": {
      "text/plain": [
       "torch.Size([1, 14, 768])"
      ]
     },
     "execution_count": 10,
     "metadata": {},
     "output_type": "execute_result"
    }
   ],
   "source": [
    "model.embeddings.word_embeddings(tokenizer.encode(text, return_tensors = \"pt\")).shape"
   ]
  },
  {
   "cell_type": "code",
   "execution_count": 11,
   "id": "9447396e",
   "metadata": {},
   "outputs": [
    {
     "data": {
      "text/plain": [
       "tensor([[[ 0.0136, -0.0265, -0.0235,  ...,  0.0087,  0.0071,  0.0151],\n",
       "         [-0.0043, -0.0330, -0.0217,  ..., -0.0425, -0.0127, -0.0389],\n",
       "         [ 0.0208, -0.0638,  0.0090,  ..., -0.0462, -0.0553, -0.0105],\n",
       "         [-0.0145, -0.0100,  0.0060,  ..., -0.0250,  0.0046, -0.0015]]],\n",
       "       grad_fn=<EmbeddingBackward0>)"
      ]
     },
     "execution_count": 11,
     "metadata": {},
     "output_type": "execute_result"
    }
   ],
   "source": [
    "#[ 0.0136, -0.0265, -0.0235,  ...,  0.0087,  0.0071,  0.0151] - CLS same as above\n",
    "# [-0.0145, -0.0100,  0.0060,  ..., -0.0250,  0.0046, -0.0015] - SEP \n",
    "# CLS at start ane SEP at end will be same for all the records\n",
    "model.embeddings.word_embeddings(tokenizer.encode(\"hello welcome\", return_tensors = \"pt\"))"
   ]
  },
  {
   "cell_type": "code",
   "execution_count": 12,
   "id": "b94669ff",
   "metadata": {},
   "outputs": [
    {
     "data": {
      "text/plain": [
       "torch.Size([1, 4, 768])"
      ]
     },
     "execution_count": 12,
     "metadata": {},
     "output_type": "execute_result"
    }
   ],
   "source": [
    "\n",
    "model.embeddings.word_embeddings(tokenizer.encode(\"hello welcome\", return_tensors = \"pt\")).shape"
   ]
  },
  {
   "cell_type": "code",
   "execution_count": 13,
   "id": "3382dda5",
   "metadata": {},
   "outputs": [],
   "source": [
    "#POSITION EMBEDDING\n",
    "# default bert base model takes 512 word in a sentence ."
   ]
  },
  {
   "cell_type": "code",
   "execution_count": 14,
   "id": "8313c819",
   "metadata": {},
   "outputs": [
    {
     "data": {
      "text/plain": [
       "Embedding(512, 768)"
      ]
     },
     "execution_count": 14,
     "metadata": {},
     "output_type": "execute_result"
    }
   ],
   "source": [
    "model.embeddings.position_embeddings"
   ]
  },
  {
   "cell_type": "code",
   "execution_count": 35,
   "id": "5ecb2d5c",
   "metadata": {},
   "outputs": [
    {
     "data": {
      "text/plain": [
       "tensor([ 0,  1,  2,  3,  4,  5,  6,  7,  8,  9, 10, 11, 12, 13])"
      ]
     },
     "execution_count": 35,
     "metadata": {},
     "output_type": "execute_result"
    }
   ],
   "source": [
    "\n",
    "torch.LongTensor(range(14))"
   ]
  },
  {
   "cell_type": "code",
   "execution_count": 34,
   "id": "47ceb8bc",
   "metadata": {},
   "outputs": [
    {
     "data": {
      "text/plain": [
       "tensor([[ 1.7505e-02, -2.5631e-02, -3.6642e-02,  ...,  3.3437e-05,\n",
       "          6.8312e-04,  1.5441e-02],\n",
       "        [ 7.7580e-03,  2.2613e-03, -1.9444e-02,  ...,  2.8910e-02,\n",
       "          2.9753e-02, -5.3247e-03],\n",
       "        [-1.1287e-02, -1.9644e-03, -1.1573e-02,  ...,  1.4908e-02,\n",
       "          1.8741e-02, -7.3140e-03],\n",
       "        ...,\n",
       "        [-1.1239e-02,  4.1275e-03, -1.6536e-02,  ...,  1.8726e-02,\n",
       "          1.4024e-02,  8.7044e-03],\n",
       "        [-1.5178e-02,  5.2001e-03, -2.7250e-03,  ...,  1.6257e-02,\n",
       "          1.9132e-04,  9.7079e-03],\n",
       "        [-1.8272e-02,  4.4238e-03, -1.3151e-03,  ...,  1.4878e-02,\n",
       "          7.0050e-03,  1.0528e-02]], grad_fn=<EmbeddingBackward0>)"
      ]
     },
     "execution_count": 34,
     "metadata": {},
     "output_type": "execute_result"
    }
   ],
   "source": [
    "model.embeddings.position_embeddings(torch.LongTensor(range(14)))"
   ]
  },
  {
   "cell_type": "code",
   "execution_count": 19,
   "id": "cbeda1d0",
   "metadata": {},
   "outputs": [
    {
     "data": {
      "text/plain": [
       "torch.Size([6, 768])"
      ]
     },
     "execution_count": 19,
     "metadata": {},
     "output_type": "execute_result"
    }
   ],
   "source": [
    "model.embeddings.position_embeddings(torch.LongTensor(range(6))).shape"
   ]
  },
  {
   "cell_type": "code",
   "execution_count": 20,
   "id": "7cc868b2",
   "metadata": {},
   "outputs": [],
   "source": [
    "#TOKEN TYPE EMBEDDING"
   ]
  },
  {
   "cell_type": "code",
   "execution_count": 21,
   "id": "81541e0d",
   "metadata": {},
   "outputs": [
    {
     "data": {
      "text/plain": [
       "Embedding(2, 768)"
      ]
     },
     "execution_count": 21,
     "metadata": {},
     "output_type": "execute_result"
    }
   ],
   "source": [
    "model.embeddings.token_type_embeddings"
   ]
  },
  {
   "cell_type": "code",
   "execution_count": 33,
   "id": "2c75ccf5",
   "metadata": {},
   "outputs": [
    {
     "data": {
      "text/plain": [
       "tensor([0, 0, 0, 0, 0, 0, 0, 0, 0, 0, 0, 0, 0, 0])"
      ]
     },
     "execution_count": 33,
     "metadata": {},
     "output_type": "execute_result"
    }
   ],
   "source": [
    "\n",
    "torch.LongTensor([0] * 14)"
   ]
  },
  {
   "cell_type": "code",
   "execution_count": 32,
   "id": "1c5b98a3",
   "metadata": {},
   "outputs": [
    {
     "data": {
      "text/plain": [
       "tensor([[ 0.0004,  0.0110,  0.0037,  ..., -0.0066, -0.0034, -0.0086],\n",
       "        [ 0.0004,  0.0110,  0.0037,  ..., -0.0066, -0.0034, -0.0086],\n",
       "        [ 0.0004,  0.0110,  0.0037,  ..., -0.0066, -0.0034, -0.0086],\n",
       "        ...,\n",
       "        [ 0.0004,  0.0110,  0.0037,  ..., -0.0066, -0.0034, -0.0086],\n",
       "        [ 0.0004,  0.0110,  0.0037,  ..., -0.0066, -0.0034, -0.0086],\n",
       "        [ 0.0004,  0.0110,  0.0037,  ..., -0.0066, -0.0034, -0.0086]],\n",
       "       grad_fn=<EmbeddingBackward0>)"
      ]
     },
     "execution_count": 32,
     "metadata": {},
     "output_type": "execute_result"
    }
   ],
   "source": [
    "model.embeddings.token_type_embeddings(torch.LongTensor([0] * 14))"
   ]
  },
  {
   "cell_type": "code",
   "execution_count": 31,
   "id": "2a5ee416",
   "metadata": {},
   "outputs": [
    {
     "data": {
      "text/plain": [
       "torch.Size([14, 768])"
      ]
     },
     "execution_count": 31,
     "metadata": {},
     "output_type": "execute_result"
    }
   ],
   "source": [
    "model.embeddings.token_type_embeddings(torch.LongTensor([0] * 14)).shape"
   ]
  },
  {
   "cell_type": "code",
   "execution_count": 25,
   "id": "a0e9646b",
   "metadata": {},
   "outputs": [],
   "source": [
    "#appply everything together(applying feed forward norm)"
   ]
  },
  {
   "cell_type": "code",
   "execution_count": 30,
   "id": "a1d6d355",
   "metadata": {},
   "outputs": [
    {
     "data": {
      "text/plain": [
       "tensor([[[ 0.1686, -0.2858, -0.3261,  ..., -0.0276,  0.0383,  0.1640],\n",
       "         [ 0.7885, -0.4432,  0.2550,  ..., -0.0480, -0.0742, -0.0010],\n",
       "         [ 0.2024,  0.4469, -0.0687,  ...,  0.4889,  0.3223,  0.2605],\n",
       "         ...,\n",
       "         [-0.7861, -0.2950,  0.4169,  ..., -0.3405, -0.2996,  0.9149],\n",
       "         [-0.8188,  0.0307,  0.1364,  ...,  0.5349,  0.5190,  0.4778],\n",
       "         [-0.6056,  0.0968,  0.1880,  ..., -0.2773,  0.1849,  0.0580]]],\n",
       "       grad_fn=<NativeLayerNormBackward0>)"
      ]
     },
     "execution_count": 30,
     "metadata": {},
     "output_type": "execute_result"
    }
   ],
   "source": [
    "model.embeddings.LayerNorm(\n",
    "    model.embeddings.word_embeddings(tokenizer.encode(text, return_tensors = \"pt\")) + \\\n",
    "    model.embeddings.position_embeddings(torch.LongTensor(range(14))) + \\\n",
    "    model.embeddings.token_type_embeddings(torch.LongTensor([0] * 14))\n",
    ")"
   ]
  },
  {
   "cell_type": "code",
   "execution_count": 36,
   "id": "eebf1c8c",
   "metadata": {},
   "outputs": [
    {
     "data": {
      "text/plain": [
       "tensor([[[ 0.1686, -0.2858, -0.3261,  ..., -0.0276,  0.0383,  0.1640],\n",
       "         [ 0.7885, -0.4432,  0.2550,  ..., -0.0480, -0.0742, -0.0010],\n",
       "         [ 0.2024,  0.4469, -0.0687,  ...,  0.4889,  0.3223,  0.2605],\n",
       "         ...,\n",
       "         [-0.7861, -0.2950,  0.4169,  ..., -0.3405, -0.2996,  0.9149],\n",
       "         [-0.8188,  0.0307,  0.1364,  ...,  0.5349,  0.5190,  0.4778],\n",
       "         [-0.6056,  0.0968,  0.1880,  ..., -0.2773,  0.1849,  0.0580]]],\n",
       "       grad_fn=<NativeLayerNormBackward0>)"
      ]
     },
     "execution_count": 36,
     "metadata": {},
     "output_type": "execute_result"
    }
   ],
   "source": [
    "## all the above step is done in single command below\n",
    "#model.embeding does , word + position + token type\n",
    "model.embeddings(tokenizer.encode(text, return_tensors = \"pt\"))"
   ]
  },
  {
   "cell_type": "code",
   "execution_count": null,
   "id": "074062b3",
   "metadata": {},
   "outputs": [],
   "source": []
  }
 ],
 "metadata": {
  "kernelspec": {
   "display_name": "Python 3 (ipykernel)",
   "language": "python",
   "name": "python3"
  },
  "language_info": {
   "codemirror_mode": {
    "name": "ipython",
    "version": 3
   },
   "file_extension": ".py",
   "mimetype": "text/x-python",
   "name": "python",
   "nbconvert_exporter": "python",
   "pygments_lexer": "ipython3",
   "version": "3.11.4"
  }
 },
 "nbformat": 4,
 "nbformat_minor": 5
}
